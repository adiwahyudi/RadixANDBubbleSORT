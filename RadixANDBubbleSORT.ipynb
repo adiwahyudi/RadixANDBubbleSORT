{
  "nbformat": 4,
  "nbformat_minor": 0,
  "metadata": {
    "colab": {
      "name": "Tugas Besar AKA.ipynb",
      "provenance": [],
      "collapsed_sections": [
        "rgiWKzrSc2RJ",
        "n8x-r60jhFLC"
      ]
    },
    "kernelspec": {
      "name": "python3",
      "display_name": "Python 3"
    }
  },
  "cells": [
    {
      "cell_type": "markdown",
      "metadata": {
        "id": "GSXNpRkWc-L8"
      },
      "source": [
        "# **TUGAS BESAR ANALISIS KOMPLEKSITAS ALGORITMA**\r\n",
        "***Radix Sort dan Bubble Sort***\r\n",
        "\r\n",
        "oleh :\r\n",
        "\r\n",
        "\r\n",
        "1.   **I Wayan Adi Wahyudi - 1301194084**\r\n",
        "\r\n",
        "\r\n",
        "\r\n"
      ]
    },
    {
      "cell_type": "markdown",
      "metadata": {
        "id": "5Kr3dSTa4jvq"
      },
      "source": [
        ""
      ]
    },
    {
      "cell_type": "markdown",
      "metadata": {
        "id": "rgiWKzrSc2RJ"
      },
      "source": [
        "# **Import dan Function tambahan**"
      ]
    },
    {
      "cell_type": "code",
      "metadata": {
        "id": "t9VjYzep2xDu"
      },
      "source": [
        "import time"
      ],
      "execution_count": null,
      "outputs": []
    },
    {
      "cell_type": "code",
      "metadata": {
        "id": "fjcGn_SUcAbX"
      },
      "source": [
        "# Fungsi yang akan membuat list yang berisikan elemen yang sudah diacak\r\n",
        "def create_random_list (length):\r\n",
        "\r\n",
        "    import random\r\n",
        "\r\n",
        "    random_list = list(range(0,length))\r\n",
        "    random.shuffle(random_list)\r\n",
        "\r\n",
        "    return random_list"
      ],
      "execution_count": null,
      "outputs": []
    },
    {
      "cell_type": "markdown",
      "metadata": {
        "id": "2ky5UvLPcE6J"
      },
      "source": [
        "# **Radix Sort**"
      ]
    },
    {
      "cell_type": "code",
      "metadata": {
        "id": "w_Y4zoRu2H8B"
      },
      "source": [
        "waktu_radix = []\r\n",
        "\r\n",
        "\"\"\" Dibawah akan melakukan Counting Sort , dimana\r\n",
        "    Counting Sort fungsinya untuk mengurut element di basis tempat yang signifikan. \r\n",
        "\"\"\"\r\n",
        "def countingSort(array,place):\r\n",
        "        size = len(array)\r\n",
        "        output = [0] * size\r\n",
        "        count = [0] * 10\r\n",
        "\r\n",
        "        # Melakukan perhitungan element\r\n",
        "        for i in range(0, size):\r\n",
        "            index = array[i] // place\r\n",
        "            count[index % 10] += 1\r\n",
        "\r\n",
        "        # Melakukan perhitungan jumlah kumulatif\r\n",
        "        for i in range(1, 10):\r\n",
        "            count[i] += count[i - 1]\r\n",
        "        # Meletakan elemen secara terurut\r\n",
        "        i = size - 1\r\n",
        "        while i >= 0:\r\n",
        "            index = array[i] // place\r\n",
        "            output[count[index % 10] - 1] = array[i]\r\n",
        "            count[index % 10] -= 1\r\n",
        "            i -= 1\r\n",
        "\r\n",
        "        for i in range(0, size):\r\n",
        "            array[i] = output[i]\r\n",
        "\r\n",
        "def radixSort(array):\r\n",
        "    # Mencari Element dengan nilai tertinggi dan di waktu eksekusi dimulai\r\n",
        "    start_time = time.time()\r\n",
        "    max_element = max(array)\r\n",
        "\r\n",
        "    # Melakukan implementasi dari Counting Sort\r\n",
        "    place = 1\r\n",
        "    while max_element // place > 0:\r\n",
        "        countingSort(array,place)\r\n",
        "        place *= 10\r\n",
        "    selesai = time.time() - start_time\r\n",
        "    waktu_radix.append(selesai)\r\n",
        "    print(\"Radix Sort\",\"\\t:\" ,selesai, \"seconds\")"
      ],
      "execution_count": null,
      "outputs": []
    },
    {
      "cell_type": "markdown",
      "metadata": {
        "id": "HLhKL8h4cNot"
      },
      "source": [
        "# **Bubble Sort**"
      ]
    },
    {
      "cell_type": "code",
      "metadata": {
        "id": "_i7ZHSn92KDC"
      },
      "source": [
        "# Bubble Sort\r\n",
        "waktu_bubble = []\r\n",
        "def bubbleSort(array): \r\n",
        "    start_time = time.time()\r\n",
        "    n = len(array)\r\n",
        "    for i in range(n-1): \r\n",
        "        for j in range(0, n-i-1): \r\n",
        "            if array[j] > array[j+1] : \r\n",
        "                array[j], array[j+1] = array[j+1], array[j] \r\n",
        "    selesai = time.time() - start_time\r\n",
        "    waktu_bubble.append(selesai)\r\n",
        "    print(\"Bubble Sort\",\"\\t:\" ,selesai, \"seconds\")\r\n"
      ],
      "execution_count": null,
      "outputs": []
    },
    {
      "cell_type": "markdown",
      "metadata": {
        "id": "NsIqnRH6cZRb"
      },
      "source": [
        "# **Benchmark**"
      ]
    },
    {
      "cell_type": "code",
      "metadata": {
        "id": "BkX2UeHvcWvj",
        "colab": {
          "base_uri": "https://localhost:8080/"
        },
        "outputId": "7a63efb3-7375-469f-d342-abc60f5aa53c"
      },
      "source": [
        "# Benchmark Radix Sort dan Bubble Sort\r\n",
        "print(\"\\n\\t Running Time Radix Sort dan Bubble Sort\\n\")\r\n",
        "n = [10,100,1000,10000,100000]\r\n",
        "for i in n:\r\n",
        "    print(\"Untuk n \\t:\",i)\r\n",
        "    temp = create_random_list(i)\r\n",
        "    radixSort(temp)\r\n",
        "    bubbleSort(temp)\r\n",
        "    print(\" \")\r\n"
      ],
      "execution_count": null,
      "outputs": [
        {
          "output_type": "stream",
          "text": [
            "\n",
            "\t Running Time Radix Sort dan Bubble Sort\n",
            "\n",
            "Untuk n \t: 10\n",
            "Radix Sort \t: 2.5272369384765625e-05 seconds\n",
            "Bubble Sort \t: 1.1444091796875e-05 seconds\n",
            " \n",
            "Untuk n \t: 100\n",
            "Radix Sort \t: 9.417533874511719e-05 seconds\n",
            "Bubble Sort \t: 0.0003921985626220703 seconds\n",
            " \n",
            "Untuk n \t: 1000\n",
            "Radix Sort \t: 0.0014493465423583984 seconds\n",
            "Bubble Sort \t: 0.041973114013671875 seconds\n",
            " \n",
            "Untuk n \t: 10000\n",
            "Radix Sort \t: 0.022120237350463867 seconds\n",
            "Bubble Sort \t: 4.392758369445801 seconds\n",
            " \n",
            "Untuk n \t: 100000\n",
            "Radix Sort \t: 0.27365970611572266 seconds\n",
            "Bubble Sort \t: 442.97123527526855 seconds\n",
            " \n"
          ],
          "name": "stdout"
        }
      ]
    },
    {
      "cell_type": "markdown",
      "metadata": {
        "id": "n8x-r60jhFLC"
      },
      "source": [
        "# **Visualisasi Data**"
      ]
    },
    {
      "cell_type": "code",
      "metadata": {
        "id": "_8b2iybimd6f"
      },
      "source": [
        "import matplotlib.pyplot as plt"
      ],
      "execution_count": null,
      "outputs": []
    },
    {
      "cell_type": "code",
      "metadata": {
        "id": "HJlIELHAhEd-"
      },
      "source": [
        "def graphData(waktu_data1,waktu_data2,n):\r\n",
        "  fig = plt.figure()\r\n",
        "  fig.patch.set_facecolor('white')\r\n",
        "\r\n",
        "  plt.plot(n,waktu_data1,label=\"Radix Sort\")\r\n",
        "  plt.plot(n,waktu_data2,label=\"Bubble Sort\")\r\n",
        "\r\n",
        "  plt.xlabel(\"Banyak data\")\r\n",
        "  plt.ylabel(\"Waktu (seconds)\")\r\n",
        "  plt.title(\"Perbandingan Radix dan Bubble\",fontweight=\"bold\")\r\n",
        "  plt.grid(alpha=0.4)\r\n",
        "  plt.legend()\r\n",
        "\r\n",
        "  plt.show()"
      ],
      "execution_count": null,
      "outputs": []
    },
    {
      "cell_type": "code",
      "metadata": {
        "colab": {
          "base_uri": "https://localhost:8080/",
          "height": 295
        },
        "id": "Px_f4Y9qnQGA",
        "outputId": "238fb5a4-de9a-4fba-b9f8-5101e1303ad8"
      },
      "source": [
        "graphData(waktu_radix,waktu_bubble,n)"
      ],
      "execution_count": null,
      "outputs": [
        {
          "output_type": "display_data",
          "data": {
            "image/png": "[encoded data removed]",
            "text/plain": [
              "<Figure size 432x288 with 1 Axes>"
            ]
          },
          "metadata": {
            "tags": []
          }
        }
      ]
    }
  ]
}
